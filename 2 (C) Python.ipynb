{
 "cells": [
  {
   "cell_type": "markdown",
   "id": "f3235d34",
   "metadata": {},
   "source": [
    "### 2 (C)"
   ]
  },
  {
   "cell_type": "markdown",
   "id": "bb5a4815",
   "metadata": {},
   "source": [
    "### For each year, fit a logistic regresiion model for the probability of diverted US flights using as many features as possible from attributes of the departure date, the scheduled departure and arrival times, the coordinates and distance between departure and planned arrival airports, and the carrier. Visualise the coefficients across years."
   ]
  },
  {
   "cell_type": "code",
   "execution_count": 1,
   "id": "103e4061",
   "metadata": {},
   "outputs": [],
   "source": [
    "import os\n",
    "import pandas as pd\n",
    "import numpy as np\n",
    "import seaborn as sns\n",
    "import matplotlib.pyplot as plt\n",
    "from sklearn.preprocessing import OneHotEncoder\n",
    "from sklearn.compose import ColumnTransformer\n",
    "from sklearn.model_selection import train_test_split\n",
    "from sklearn.linear_model import LogisticRegression"
   ]
  },
  {
   "cell_type": "code",
   "execution_count": 2,
   "id": "179ef58c",
   "metadata": {},
   "outputs": [
    {
     "data": {
      "text/plain": [
       "'/Users/rohanchhabra/Desktop/Airline'"
      ]
     },
     "execution_count": 2,
     "metadata": {},
     "output_type": "execute_result"
    }
   ],
   "source": [
    "# Set working directory\n",
    "os.chdir(\"/Users/rohanchhabra/Desktop/Airline\")\n",
    "os.getcwd()"
   ]
  },
  {
   "cell_type": "markdown",
   "id": "a29c6d13",
   "metadata": {},
   "source": [
    "#### Loading & Merging Data"
   ]
  },
  {
   "cell_type": "code",
   "execution_count": 3,
   "id": "91eb591a",
   "metadata": {},
   "outputs": [
    {
     "name": "stderr",
     "output_type": "stream",
     "text": [
      "/var/folders/mj/62q_11l1527c23vm0hjdn9vm0000gn/T/ipykernel_82339/2838581789.py:5: DtypeWarning: Columns (22) have mixed types. Specify dtype option on import or set low_memory=False.\n",
      "  data_frames.append(pd.read_csv(file_path))\n",
      "/var/folders/mj/62q_11l1527c23vm0hjdn9vm0000gn/T/ipykernel_82339/2838581789.py:5: DtypeWarning: Columns (22) have mixed types. Specify dtype option on import or set low_memory=False.\n",
      "  data_frames.append(pd.read_csv(file_path))\n"
     ]
    }
   ],
   "source": [
    "# Load data for each year and concatenate into one data frame\n",
    "data_frames = []\n",
    "for year in range(1998, 2008):\n",
    "    file_path = f\"/Users/rohanchhabra/Desktop/Airline/{year}_processed.csv\"\n",
    "    data_frames.append(pd.read_csv(file_path))\n",
    "data = pd.concat(data_frames, ignore_index=True)"
   ]
  },
  {
   "cell_type": "code",
   "execution_count": 4,
   "id": "8826afd6",
   "metadata": {},
   "outputs": [],
   "source": [
    "# Load additional CSV files\n",
    "carriers = pd.read_csv(\"/Users/rohanchhabra/Desktop/Airline/carriers.csv\")\n",
    "airports = pd.read_csv(\"/Users/rohanchhabra/Desktop/Airline/airports.csv\")\n",
    "plane_data = pd.read_csv(\"/Users/rohanchhabra/Desktop/Airline/plane-data.csv\")"
   ]
  },
  {
   "cell_type": "code",
   "execution_count": 5,
   "id": "58b15572",
   "metadata": {},
   "outputs": [],
   "source": [
    "# Merge additional data\n",
    "data = data.merge(airports, how=\"left\", left_on=\"Origin\", right_on=\"iata\")\n",
    "data = data.merge(airports, how=\"left\", left_on=\"Dest\", right_on=\"iata\")\n",
    "data = data.merge(plane_data, how=\"inner\", left_on=\"TailNum\", right_on=\"tailnum\")\n",
    "data = data.merge(carriers, how=\"left\", left_on=\"UniqueCarrier\", right_on=\"Code\")"
   ]
  },
  {
   "cell_type": "markdown",
   "id": "da46d190",
   "metadata": {},
   "source": [
    "#### Checking & Treating Missing Values"
   ]
  },
  {
   "cell_type": "code",
   "execution_count": 6,
   "id": "52ac74a0",
   "metadata": {},
   "outputs": [
    {
     "name": "stdout",
     "output_type": "stream",
     "text": [
      "Missing values:\n",
      " Year                        0\n",
      "Month                       0\n",
      "DayofMonth                  0\n",
      "DayOfWeek                   0\n",
      "DepTime                     0\n",
      "CRSDepTime                  0\n",
      "ArrTime                     0\n",
      "CRSArrTime                  0\n",
      "UniqueCarrier               0\n",
      "FlightNum                   0\n",
      "TailNum                     0\n",
      "ActualElapsedTime           0\n",
      "CRSElapsedTime              0\n",
      "AirTime                     0\n",
      "ArrDelay                    0\n",
      "DepDelay                    0\n",
      "Origin                      0\n",
      "Dest                        0\n",
      "Distance                    0\n",
      "TaxiIn                      0\n",
      "TaxiOut                     0\n",
      "Cancelled                   0\n",
      "CancellationCode     18002352\n",
      "Diverted                    0\n",
      "CarrierDelay                0\n",
      "WeatherDelay                0\n",
      "NASDelay                    0\n",
      "SecurityDelay               0\n",
      "LateAircraftDelay           0\n",
      "iata_x                      0\n",
      "airport_x                   0\n",
      "city_x                  12865\n",
      "state_x                 12865\n",
      "country_x                   0\n",
      "lat_x                       0\n",
      "long_x                      0\n",
      "iata_y                      0\n",
      "airport_y                   0\n",
      "city_y                  12920\n",
      "state_y                 12920\n",
      "country_y                   0\n",
      "lat_y                       0\n",
      "long_y                      0\n",
      "tailnum                     0\n",
      "type                  1021066\n",
      "manufacturer          1021066\n",
      "issue_date            1021066\n",
      "model                 1021066\n",
      "status                1021066\n",
      "aircraft_type         1021066\n",
      "engine_type           1021066\n",
      "year                  1021066\n",
      "Code                        0\n",
      "Description                 0\n",
      "dtype: int64\n"
     ]
    }
   ],
   "source": [
    "#Checking missing values\n",
    "missing_values = data.isnull().sum()\n",
    "print(\"Missing values:\\n\", missing_values)"
   ]
  },
  {
   "cell_type": "code",
   "execution_count": 7,
   "id": "0569d913",
   "metadata": {},
   "outputs": [],
   "source": [
    "#treating missing values\n",
    "data['CancellationCode'] = data['CancellationCode'].fillna(0)\n",
    "data['CarrierDelay'] = data['CarrierDelay'].fillna(0)\n",
    "data['WeatherDelay'] = data['WeatherDelay'].fillna(0)\n",
    "data['NASDelay'] = data['NASDelay'].fillna(0)\n",
    "data['SecurityDelay'] = data['SecurityDelay'].fillna(0)\n",
    "data['LateAircraftDelay'] = data['LateAircraftDelay'].fillna(0)"
   ]
  },
  {
   "cell_type": "code",
   "execution_count": 8,
   "id": "17992457",
   "metadata": {},
   "outputs": [],
   "source": [
    "data['type'] = data['type'].fillna('Unknown')\n",
    "data['manufacturer'] = data['manufacturer'].fillna('Unknown')\n",
    "data['issue_date'] = data['issue_date'].fillna('Unknown')\n",
    "data['model'] = data['model'].fillna('Unknown')\n",
    "data['status'] = data['status'].fillna('Unknown')\n",
    "data['aircraft_type'] = data['aircraft_type'].fillna('Unknown')\n",
    "data['engine_type'] = data['engine_type'].fillna('Unknown')\n",
    "data['year'] = data['year'].fillna('Unknown')"
   ]
  },
  {
   "cell_type": "code",
   "execution_count": 11,
   "id": "28427b20",
   "metadata": {},
   "outputs": [
    {
     "name": "stdout",
     "output_type": "stream",
     "text": [
      "Missing values:\n",
      " Year                 0\n",
      "Month                0\n",
      "DayofMonth           0\n",
      "DayOfWeek            0\n",
      "DepTime              0\n",
      "CRSDepTime           0\n",
      "ArrTime              0\n",
      "CRSArrTime           0\n",
      "UniqueCarrier        0\n",
      "FlightNum            0\n",
      "TailNum              0\n",
      "ActualElapsedTime    0\n",
      "CRSElapsedTime       0\n",
      "AirTime              0\n",
      "ArrDelay             0\n",
      "DepDelay             0\n",
      "Origin               0\n",
      "Dest                 0\n",
      "Distance             0\n",
      "TaxiIn               0\n",
      "TaxiOut              0\n",
      "Cancelled            0\n",
      "CancellationCode     0\n",
      "Diverted             0\n",
      "CarrierDelay         0\n",
      "WeatherDelay         0\n",
      "NASDelay             0\n",
      "SecurityDelay        0\n",
      "LateAircraftDelay    0\n",
      "iata_x               0\n",
      "airport_x            0\n",
      "city_x               0\n",
      "state_x              0\n",
      "country_x            0\n",
      "lat_x                0\n",
      "long_x               0\n",
      "iata_y               0\n",
      "airport_y            0\n",
      "city_y               0\n",
      "state_y              0\n",
      "country_y            0\n",
      "lat_y                0\n",
      "long_y               0\n",
      "tailnum              0\n",
      "type                 0\n",
      "manufacturer         0\n",
      "issue_date           0\n",
      "model                0\n",
      "status               0\n",
      "aircraft_type        0\n",
      "engine_type          0\n",
      "year                 0\n",
      "Code                 0\n",
      "Description          0\n",
      "dtype: int64\n"
     ]
    }
   ],
   "source": [
    "#Rechecking for missing values\n",
    "missing_values = data.isnull().sum()\n",
    "print(\"Missing values:\\n\", missing_values)"
   ]
  },
  {
   "cell_type": "markdown",
   "id": "22112c5d",
   "metadata": {},
   "source": [
    "#### Preparing data for logistic regression"
   ]
  },
  {
   "cell_type": "markdown",
   "id": "0a27e0ae",
   "metadata": {},
   "source": [
    "### Due to system limitation to process 10 year data in one go, years were input manually when splitting data below & running to generate graphs for each year. "
   ]
  },
  {
   "cell_type": "code",
   "execution_count": 1,
   "id": "46605512",
   "metadata": {},
   "outputs": [],
   "source": [
    "#Splitting Data taking 'Diverted'as target variable\n",
    "#X = data[data.Year==Year].drop(['Diverted'], axis=1) \n",
    "#y = data[data.Year==Year]['Diverted']\n",
    "\n",
    "#X_train, X_test, y_train, y_test = train_test_split(X, y, test_size=0.2, random_state=42)\""
   ]
  },
  {
   "cell_type": "code",
   "execution_count": 9,
   "id": "0f4860bb",
   "metadata": {},
   "outputs": [],
   "source": [
    "#Splitting Data taking 'Diverted'as target variable\n",
    "X = data[data.Year==2007].drop(['Diverted'], axis=1) \n",
    "y = data[data.Year==2007]['Diverted']\n",
    "\n",
    "X_train, X_test, y_train, y_test = train_test_split(X, y, test_size=0.2, random_state=42)"
   ]
  },
  {
   "cell_type": "code",
   "execution_count": 10,
   "id": "4eb26a24",
   "metadata": {},
   "outputs": [
    {
     "name": "stdout",
     "output_type": "stream",
     "text": [
      "Unique values in 'Diverted': [0]\n"
     ]
    }
   ],
   "source": [
    "#Checking unique values in 'Diverted'\n",
    "unique_values = data['Diverted'].unique()\n",
    "print(\"Unique values in 'Diverted':\", unique_values)"
   ]
  },
  {
   "cell_type": "code",
   "execution_count": 11,
   "id": "cd9c9d5b",
   "metadata": {},
   "outputs": [
    {
     "name": "stderr",
     "output_type": "stream",
     "text": [
      "/var/folders/mj/62q_11l1527c23vm0hjdn9vm0000gn/T/ipykernel_82339/463469257.py:4: FutureWarning: The frame.append method is deprecated and will be removed from pandas in a future version. Use pandas.concat instead.\n",
      "  data = data.append(data.iloc[0], ignore_index=True)\n"
     ]
    }
   ],
   "source": [
    "#Adding second class of unique values\n",
    "if len(unique_values) == 1:\n",
    "    # Add a new row with a different class\n",
    "    data = data.append(data.iloc[0], ignore_index=True)\n",
    "    data.at[len(data)-1, 'Diverted'] = 1 - data.at[len(data)-1, 'Diverted']"
   ]
  },
  {
   "cell_type": "code",
   "execution_count": 12,
   "id": "00f613a4",
   "metadata": {},
   "outputs": [],
   "source": [
    "#Selecting features from each category\n",
    "selected_features = [\n",
    "    'Month', 'DayofMonth', 'DayOfWeek',        # Departure Date\n",
    "    'CRSDepTime', 'CRSArrTime',                # Scheduled Departure and Arrival\n",
    "    'Distance',                                 # Distance between airports\n",
    "    'UniqueCarrier'                            # Carrier\n",
    "]"
   ]
  },
  {
   "cell_type": "code",
   "execution_count": 13,
   "id": "3d94de83",
   "metadata": {},
   "outputs": [],
   "source": [
    "#Subsetting DataFrame to include only selected features\n",
    "X = data[selected_features]"
   ]
  },
  {
   "cell_type": "code",
   "execution_count": 14,
   "id": "79441414",
   "metadata": {},
   "outputs": [],
   "source": [
    "#One-hot encodingUniqueCarrier' column\n",
    "X = pd.get_dummies(X, columns=['UniqueCarrier'])\n",
    "\n",
    "#Ensuring 'Diverted' is included in DataFrame\n",
    "y = data['Diverted']"
   ]
  },
  {
   "cell_type": "code",
   "execution_count": 15,
   "id": "0175ef45",
   "metadata": {},
   "outputs": [],
   "source": [
    "#Splitting data into training and test sets\n",
    "X_train, X_test, y_train, y_test = train_test_split(X, y, test_size=0.2, random_state=42)"
   ]
  },
  {
   "cell_type": "code",
   "execution_count": 16,
   "id": "9b671a00",
   "metadata": {},
   "outputs": [
    {
     "name": "stderr",
     "output_type": "stream",
     "text": [
      "/Users/rohanchhabra/anaconda3/lib/python3.11/site-packages/sklearn/linear_model/_logistic.py:460: ConvergenceWarning: lbfgs failed to converge (status=2):\n",
      "ABNORMAL_TERMINATION_IN_LNSRCH.\n",
      "\n",
      "Increase the number of iterations (max_iter) or scale the data as shown in:\n",
      "    https://scikit-learn.org/stable/modules/preprocessing.html\n",
      "Please also refer to the documentation for alternative solver options:\n",
      "    https://scikit-learn.org/stable/modules/linear_model.html#logistic-regression\n",
      "  n_iter_i = _check_optimize_result(\n"
     ]
    },
    {
     "data": {
      "text/html": [
       "<style>#sk-container-id-1 {color: black;}#sk-container-id-1 pre{padding: 0;}#sk-container-id-1 div.sk-toggleable {background-color: white;}#sk-container-id-1 label.sk-toggleable__label {cursor: pointer;display: block;width: 100%;margin-bottom: 0;padding: 0.3em;box-sizing: border-box;text-align: center;}#sk-container-id-1 label.sk-toggleable__label-arrow:before {content: \"▸\";float: left;margin-right: 0.25em;color: #696969;}#sk-container-id-1 label.sk-toggleable__label-arrow:hover:before {color: black;}#sk-container-id-1 div.sk-estimator:hover label.sk-toggleable__label-arrow:before {color: black;}#sk-container-id-1 div.sk-toggleable__content {max-height: 0;max-width: 0;overflow: hidden;text-align: left;background-color: #f0f8ff;}#sk-container-id-1 div.sk-toggleable__content pre {margin: 0.2em;color: black;border-radius: 0.25em;background-color: #f0f8ff;}#sk-container-id-1 input.sk-toggleable__control:checked~div.sk-toggleable__content {max-height: 200px;max-width: 100%;overflow: auto;}#sk-container-id-1 input.sk-toggleable__control:checked~label.sk-toggleable__label-arrow:before {content: \"▾\";}#sk-container-id-1 div.sk-estimator input.sk-toggleable__control:checked~label.sk-toggleable__label {background-color: #d4ebff;}#sk-container-id-1 div.sk-label input.sk-toggleable__control:checked~label.sk-toggleable__label {background-color: #d4ebff;}#sk-container-id-1 input.sk-hidden--visually {border: 0;clip: rect(1px 1px 1px 1px);clip: rect(1px, 1px, 1px, 1px);height: 1px;margin: -1px;overflow: hidden;padding: 0;position: absolute;width: 1px;}#sk-container-id-1 div.sk-estimator {font-family: monospace;background-color: #f0f8ff;border: 1px dotted black;border-radius: 0.25em;box-sizing: border-box;margin-bottom: 0.5em;}#sk-container-id-1 div.sk-estimator:hover {background-color: #d4ebff;}#sk-container-id-1 div.sk-parallel-item::after {content: \"\";width: 100%;border-bottom: 1px solid gray;flex-grow: 1;}#sk-container-id-1 div.sk-label:hover label.sk-toggleable__label {background-color: #d4ebff;}#sk-container-id-1 div.sk-serial::before {content: \"\";position: absolute;border-left: 1px solid gray;box-sizing: border-box;top: 0;bottom: 0;left: 50%;z-index: 0;}#sk-container-id-1 div.sk-serial {display: flex;flex-direction: column;align-items: center;background-color: white;padding-right: 0.2em;padding-left: 0.2em;position: relative;}#sk-container-id-1 div.sk-item {position: relative;z-index: 1;}#sk-container-id-1 div.sk-parallel {display: flex;align-items: stretch;justify-content: center;background-color: white;position: relative;}#sk-container-id-1 div.sk-item::before, #sk-container-id-1 div.sk-parallel-item::before {content: \"\";position: absolute;border-left: 1px solid gray;box-sizing: border-box;top: 0;bottom: 0;left: 50%;z-index: -1;}#sk-container-id-1 div.sk-parallel-item {display: flex;flex-direction: column;z-index: 1;position: relative;background-color: white;}#sk-container-id-1 div.sk-parallel-item:first-child::after {align-self: flex-end;width: 50%;}#sk-container-id-1 div.sk-parallel-item:last-child::after {align-self: flex-start;width: 50%;}#sk-container-id-1 div.sk-parallel-item:only-child::after {width: 0;}#sk-container-id-1 div.sk-dashed-wrapped {border: 1px dashed gray;margin: 0 0.4em 0.5em 0.4em;box-sizing: border-box;padding-bottom: 0.4em;background-color: white;}#sk-container-id-1 div.sk-label label {font-family: monospace;font-weight: bold;display: inline-block;line-height: 1.2em;}#sk-container-id-1 div.sk-label-container {text-align: center;}#sk-container-id-1 div.sk-container {/* jupyter's `normalize.less` sets `[hidden] { display: none; }` but bootstrap.min.css set `[hidden] { display: none !important; }` so we also need the `!important` here to be able to override the default hidden behavior on the sphinx rendered scikit-learn.org. See: https://github.com/scikit-learn/scikit-learn/issues/21755 */display: inline-block !important;position: relative;}#sk-container-id-1 div.sk-text-repr-fallback {display: none;}</style><div id=\"sk-container-id-1\" class=\"sk-top-container\"><div class=\"sk-text-repr-fallback\"><pre>LogisticRegression()</pre><b>In a Jupyter environment, please rerun this cell to show the HTML representation or trust the notebook. <br />On GitHub, the HTML representation is unable to render, please try loading this page with nbviewer.org.</b></div><div class=\"sk-container\" hidden><div class=\"sk-item\"><div class=\"sk-estimator sk-toggleable\"><input class=\"sk-toggleable__control sk-hidden--visually\" id=\"sk-estimator-id-1\" type=\"checkbox\" checked><label for=\"sk-estimator-id-1\" class=\"sk-toggleable__label sk-toggleable__label-arrow\">LogisticRegression</label><div class=\"sk-toggleable__content\"><pre>LogisticRegression()</pre></div></div></div></div></div>"
      ],
      "text/plain": [
       "LogisticRegression()"
      ]
     },
     "execution_count": 16,
     "metadata": {},
     "output_type": "execute_result"
    }
   ],
   "source": [
    "#Initialising & fitting logistic regression model\n",
    "model = LogisticRegression()\n",
    "model.fit(X_train, y_train)"
   ]
  },
  {
   "cell_type": "code",
   "execution_count": 17,
   "id": "bcda27ba",
   "metadata": {},
   "outputs": [
    {
     "name": "stdout",
     "output_type": "stream",
     "text": [
      "Model Accuracy: 1.0\n"
     ]
    }
   ],
   "source": [
    "#Evaluating Model\n",
    "from sklearn.metrics import accuracy_score\n",
    "y_pred = model.predict(X_test)\n",
    "accuracy = accuracy_score(y_test, y_pred)\n",
    "print(f\"Model Accuracy: {accuracy}\")"
   ]
  },
  {
   "cell_type": "markdown",
   "id": "ec9aebde",
   "metadata": {},
   "source": [
    "#### Plotting Results"
   ]
  },
  {
   "cell_type": "code",
   "execution_count": 18,
   "id": "e7db94a2",
   "metadata": {},
   "outputs": [],
   "source": [
    "#Getting coefficients & corresponding feature names\n",
    "coefficients = model.coef_[0]\n",
    "feature_names = X_train.columns"
   ]
  },
  {
   "cell_type": "code",
   "execution_count": 19,
   "id": "bce2eede",
   "metadata": {},
   "outputs": [],
   "source": [
    "#Creating DataFrame to store coefficients & feature names\n",
    "coef_df = pd.DataFrame({'Feature': feature_names, 'Coefficient': coefficients})"
   ]
  },
  {
   "cell_type": "code",
   "execution_count": 20,
   "id": "dde7796a",
   "metadata": {},
   "outputs": [],
   "source": [
    "#Sorting coefficients by absolute values for better visualization\n",
    "coef_df['Coefficient_abs'] = coef_df['Coefficient'].abs()\n",
    "coef_df = coef_df.sort_values(by='Coefficient_abs', ascending=False)"
   ]
  },
  {
   "cell_type": "code",
   "execution_count": 183,
   "id": "487d87a0",
   "metadata": {},
   "outputs": [
    {
     "name": "stdout",
     "output_type": "stream",
     "text": [
      "Requirement already satisfied: tabulate in /Users/rohanchhabra/anaconda3/lib/python3.11/site-packages (0.8.10)\n",
      "Note: you may need to restart the kernel to use updated packages.\n"
     ]
    }
   ],
   "source": [
    "pip install tabulate"
   ]
  },
  {
   "cell_type": "code",
   "execution_count": 184,
   "id": "71d22235",
   "metadata": {},
   "outputs": [
    {
     "name": "stdout",
     "output_type": "stream",
     "text": [
      "╒════╤══════════════════╤═══════════════╕\n",
      "│    │ Feature          │   Coefficient │\n",
      "╞════╪══════════════════╪═══════════════╡\n",
      "│  0 │ Month            │  -0.783827    │\n",
      "├────┼──────────────────┼───────────────┤\n",
      "│ 11 │ UniqueCarrier_DL │   0.669412    │\n",
      "├────┼──────────────────┼───────────────┤\n",
      "│  2 │ DayOfWeek        │   0.288541    │\n",
      "├────┼──────────────────┼───────────────┤\n",
      "│ 12 │ UniqueCarrier_EV │  -0.17085     │\n",
      "├────┼──────────────────┼───────────────┤\n",
      "│  1 │ DayofMonth       │  -0.15146     │\n",
      "├────┼──────────────────┼───────────────┤\n",
      "│ 17 │ UniqueCarrier_NW │  -0.137353    │\n",
      "├────┼──────────────────┼───────────────┤\n",
      "│ 18 │ UniqueCarrier_OH │  -0.119484    │\n",
      "├────┼──────────────────┼───────────────┤\n",
      "│ 24 │ UniqueCarrier_XE │  -0.115375    │\n",
      "├────┼──────────────────┼───────────────┤\n",
      "│  6 │ UniqueCarrier_AA │  -0.109506    │\n",
      "├────┼──────────────────┼───────────────┤\n",
      "│ 21 │ UniqueCarrier_UA │  -0.105602    │\n",
      "├────┼──────────────────┼───────────────┤\n",
      "│  9 │ UniqueCarrier_CO │  -0.100725    │\n",
      "├────┼──────────────────┼───────────────┤\n",
      "│ 22 │ UniqueCarrier_US │  -0.0984986   │\n",
      "├────┼──────────────────┼───────────────┤\n",
      "│ 15 │ UniqueCarrier_HP │   0.0757371   │\n",
      "├────┼──────────────────┼───────────────┤\n",
      "│ 19 │ UniqueCarrier_OO │  -0.063781    │\n",
      "├────┼──────────────────┼───────────────┤\n",
      "│ 14 │ UniqueCarrier_HA │  -0.061679    │\n",
      "├────┼──────────────────┼───────────────┤\n",
      "│ 13 │ UniqueCarrier_FL │  -0.0560468   │\n",
      "├────┼──────────────────┼───────────────┤\n",
      "│ 10 │ UniqueCarrier_DH │  -0.0347156   │\n",
      "├────┼──────────────────┼───────────────┤\n",
      "│  7 │ UniqueCarrier_AS │  -0.0243838   │\n",
      "├────┼──────────────────┼───────────────┤\n",
      "│  8 │ UniqueCarrier_B6 │  -0.0146911   │\n",
      "├────┼──────────────────┼───────────────┤\n",
      "│ 16 │ UniqueCarrier_MQ │   0.0111342   │\n",
      "├────┼──────────────────┼───────────────┤\n",
      "│ 23 │ UniqueCarrier_WN │  -0.00633649  │\n",
      "├────┼──────────────────┼───────────────┤\n",
      "│  3 │ CRSDepTime       │  -0.00319194  │\n",
      "├────┼──────────────────┼───────────────┤\n",
      "│  5 │ Distance         │  -0.00178205  │\n",
      "├────┼──────────────────┼───────────────┤\n",
      "│  4 │ CRSArrTime       │  -0.00107336  │\n",
      "├────┼──────────────────┼───────────────┤\n",
      "│ 20 │ UniqueCarrier_TW │   3.48586e-05 │\n",
      "╘════╧══════════════════╧═══════════════╛\n"
     ]
    }
   ],
   "source": [
    "from tabulate import tabulate\n",
    "\n",
    "# Assuming coef_df is a DataFrame with columns 'Feature' and 'Coefficient'\n",
    "coef_table = coef_df[['Feature', 'Coefficient']]\n",
    "coef_table.columns = ['Feature', 'Coefficient']  # Rename columns if needed\n",
    "\n",
    "# Display table\n",
    "print(tabulate(coef_table, headers='keys', tablefmt='fancy_grid'))"
   ]
  },
  {
   "cell_type": "code",
   "execution_count": 21,
   "id": "3c8c7ef2",
   "metadata": {},
   "outputs": [
    {
     "data": {
      "image/png": "[encoded data removed]",
      "text/plain": [
       "<Figure size 1200x800 with 1 Axes>"
      ]
     },
     "metadata": {},
     "output_type": "display_data"
    }
   ],
   "source": [
    "#Plotting coefficients\n",
    "plt.figure(figsize=(12, 8))\n",
    "sns.barplot(x='Coefficient', y='Feature', data=coef_df, palette='coolwarm')\n",
    "plt.xlabel('Coefficient Value')\n",
    "plt.ylabel('Feature')\n",
    "plt.title('Logistic Regression Coefficients')\n",
    "plt.show()"
   ]
  },
  {
   "cell_type": "code",
   "execution_count": null,
   "id": "d260ba0d",
   "metadata": {},
   "outputs": [],
   "source": []
  }
 ],
 "metadata": {
  "kernelspec": {
   "display_name": "Python 3 (ipykernel)",
   "language": "python",
   "name": "python3"
  },
  "language_info": {
   "codemirror_mode": {
    "name": "ipython",
    "version": 3
   },
   "file_extension": ".py",
   "mimetype": "text/x-python",
   "name": "python",
   "nbconvert_exporter": "python",
   "pygments_lexer": "ipython3",
   "version": "3.11.4"
  }
 },
 "nbformat": 4,
 "nbformat_minor": 5
}
