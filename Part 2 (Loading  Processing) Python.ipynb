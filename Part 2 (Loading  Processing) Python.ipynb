{
 "cells": [
  {
   "cell_type": "markdown",
   "id": "fee7e9e4",
   "metadata": {},
   "source": [
    "### Loading & Processing Data For Years 1998-2007"
   ]
  },
  {
   "cell_type": "markdown",
   "id": "15385001",
   "metadata": {},
   "source": [
    "##### Loading Operating System & Library"
   ]
  },
  {
   "cell_type": "code",
   "execution_count": 1,
   "id": "ec06ac1d",
   "metadata": {},
   "outputs": [],
   "source": [
    "import os \n",
    "import pandas as pd"
   ]
  },
  {
   "cell_type": "markdown",
   "id": "a3296dbe",
   "metadata": {},
   "source": [
    "##### Setting Working Directory"
   ]
  },
  {
   "cell_type": "code",
   "execution_count": 2,
   "id": "c9ad9373",
   "metadata": {},
   "outputs": [
    {
     "data": {
      "text/plain": [
       "'/Users/rohanchhabra/Desktop/Airline'"
      ]
     },
     "execution_count": 2,
     "metadata": {},
     "output_type": "execute_result"
    }
   ],
   "source": [
    "os.chdir(\"/Users/rohanchhabra/Desktop/Airline\")\n",
    "os.getcwd()"
   ]
  },
  {
   "cell_type": "markdown",
   "id": "b5a6a24c",
   "metadata": {},
   "source": [
    "##### Cleaning & Processing "
   ]
  },
  {
   "cell_type": "code",
   "execution_count": 3,
   "id": "de30f3c5",
   "metadata": {},
   "outputs": [],
   "source": [
    "# List of years (1998-2007)\n",
    "years = range(1998, 2008)\n",
    "\n",
    "#Loading & processing data for each year\n",
    "for year in years:\n",
    "    # Load CSV file\n",
    "    file_path = f'{year}.csv'\n",
    "    flight_data = pd.read_csv(file_path)\n",
    "\n",
    "    #Dropping rows with missing departure delay or arrival delay\n",
    "    flight_data = flight_data.dropna(subset=['DepDelay', 'ArrDelay'])\n",
    "\n",
    "    #Converting Departure Delay and Arrival Delay to numeric\n",
    "    flight_data['DepDelay'] = pd.to_numeric(flight_data['DepDelay'], errors='coerce')\n",
    "    flight_data['ArrDelay'] = pd.to_numeric(flight_data['ArrDelay'], errors='coerce')\n",
    "\n",
    "    #Saving processed data as (\"year\"_processed.csv)\n",
    "    processed_file_path = f'flight_data_{year}_processed.csv'\n",
    "    flight_data.to_csv(processed_file_path, index=False)"
   ]
  },
  {
   "cell_type": "code",
   "execution_count": null,
   "id": "2d751131",
   "metadata": {},
   "outputs": [],
   "source": [
    "# /Users/rohanchhabra/Desktop/Airline"
   ]
  }
 ],
 "metadata": {
  "kernelspec": {
   "display_name": "Python 3 (ipykernel)",
   "language": "python",
   "name": "python3"
  },
  "language_info": {
   "codemirror_mode": {
    "name": "ipython",
    "version": 3
   },
   "file_extension": ".py",
   "mimetype": "text/x-python",
   "name": "python",
   "nbconvert_exporter": "python",
   "pygments_lexer": "ipython3",
   "version": "3.11.4"
  }
 },
 "nbformat": 4,
 "nbformat_minor": 5
}
